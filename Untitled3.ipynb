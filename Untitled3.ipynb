{
  "nbformat": 4,
  "nbformat_minor": 0,
  "metadata": {
    "colab": {
      "provenance": [],
      "toc_visible": true
    },
    "kernelspec": {
      "name": "python3",
      "display_name": "Python 3"
    },
    "language_info": {
      "name": "python"
    }
  },
  "cells": [
    {
      "cell_type": "code",
      "execution_count": null,
      "metadata": {
        "id": "93I3YomT39IU"
      },
      "outputs": [],
      "source": [
        "class NaturalMergeSorter:\n",
        "    def __init__(self):\n",
        "        pass\n",
        "\n",
        "    def get_sorted_run_length(self, integer_list, start_index):\n",
        "        run_length = 1\n",
        "        # Check if the start_index is within bounds and the next element is greater or equal\n",
        "        while (start_index + run_length < len(integer_list)) and (integer_list[start_index + run_length] >= integer_list[start_index + run_length - 1]):\n",
        "            run_length += 1\n",
        "        return run_length\n",
        "\n",
        "    def natural_merge_sort(self, integer_list):\n",
        "        i = 0\n",
        "        while True:\n",
        "            # Get the length of the first sorted run, starting at index i\n",
        "            first_run_length = self.get_sorted_run_length(integer_list, i)\n",
        "            # Return if the first run's length equals the list's length\n",
        "            if first_run_length == len(integer_list):\n",
        "                return\n",
        "            # If the first run ends at the list's end, reassign i=0 and repeat step 2\n",
        "            if i + first_run_length == len(integer_list):\n",
        "                i = 0\n",
        "                continue\n",
        "            # Get the length of the second sorted run, starting immediately after the first\n",
        "            second_run_length = self.get_sorted_run_length(integer_list, i + first_run_length)\n",
        "            # Merge the two runs with the provided merge() method\n",
        "            self.merge(integer_list, i, i + first_run_length - 1, i + first_run_length + second_run_length - 1)\n",
        "            # Reassign i with the first index after the second run, or 0 if the second run ends at the list's end.\n",
        "            if i + first_run_length + second_run_length == len(integer_list):\n",
        "                i = 0\n",
        "            else:\n",
        "                i += first_run_length + second_run_length\n",
        "\n",
        "    def merge(self, numbers, left_first, left_last, right_last):\n",
        "        merged_size = right_last - left_first + 1\n",
        "        merged_numbers = [None] * merged_size\n",
        "        merge_pos = 0\n",
        "        left_pos = left_first\n",
        "        right_pos = left_last + 1\n",
        "        # Add smallest element from left or right partition to merged numbers\n",
        "        while left_pos <= left_last and right_pos <= right_last:\n",
        "            if numbers[left_pos] <= numbers[right_pos]:\n",
        "                merged_numbers[merge_pos] = numbers[left_pos]\n",
        "                left_pos += 1\n",
        "            else:\n",
        "                merged_numbers[merge_pos] = numbers[right_pos]\n",
        "                right_pos += 1\n",
        "            merge_pos += 1\n",
        "        # If left partition isn't empty, add remaining elements to merged_numbers\n",
        "        while left_pos <= left_last:\n",
        "            merged_numbers[merge_pos] = numbers[left_pos]\n",
        "            left_pos += 1\n",
        "            merge_pos += 1\n",
        "        # If right partition isn't empty, add remaining elements to merged_numbers\n",
        "        while right_pos <= right_last:\n",
        "            merged_numbers[merge_pos] = numbers[right_pos]\n",
        "            right_pos += 1\n",
        "            merge_pos += 1\n",
        "        # Copy merged numbers back to numbers\n",
        "        for merge_pos in range(merged_size):\n",
        "            numbers[left_first + merge_pos] = merged_numbers[merge_pos]"
      ]
    }
  ]
}